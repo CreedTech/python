{
 "cells": [
  {
   "cell_type": "code",
   "execution_count": 1,
   "id": "e4a4e76a",
   "metadata": {},
   "outputs": [],
   "source": [
    "import random\n",
    "import threading\n",
    "import time\n",
    "from datetime import datetime as dt"
   ]
  },
  {
   "cell_type": "code",
   "execution_count": null,
   "id": "041cdb3e",
   "metadata": {},
   "outputs": [],
   "source": [
    "string = \"The quick brown fox jumps over the lazy dog\"\n",
    "print(string)\n",
    "word_count = len(string.split())\n",
    "\n",
    "while str(input('Enter \"yes\" when you are ready')) != 'yes':\n",
    "    str(input('Enter \"yes\" when you are ready'))\n",
    "start = dt.now()\n",
    "inputText = str(input('Enter the phrase as fast as possible'))\n",
    "end = dt.now()\n",
    "timeTaken = start - end\n",
    "secs = timeTaken.seconds\n",
    "wordPM = (word_count/secs)\n",
    "print(wordPM)"
   ]
  },
  {
   "cell_type": "code",
   "execution_count": 6,
   "id": "ab5aabd6",
   "metadata": {},
   "outputs": [
    {
     "name": "stdout",
     "output_type": "stream",
     "text": [
      "The quick brown fox jumps over the lazy dog\n",
      "Enter \"yes\" when you are ready: yes\n",
      "Enter the phrase as fast as possible: ehfhfkf kd fkgk fkb dkgh fk dkn kkhk dfkngkfk kk d\n",
      "1.5\n"
     ]
    }
   ],
   "source": [
    "string = \"The quick brown fox jumps over the lazy dog\"\n",
    "print(string)\n",
    "word_count = len(string.split())\n",
    "\n",
    "while str(input('Enter \"yes\" when you are ready: ')) != 'yes':\n",
    "    str(input('Enter \"yes\" when you are ready:'))\n",
    "start = dt.now()\n",
    "inputText = str(input('Enter the phrase as fast as possible: '))\n",
    "end = dt.now()\n",
    "timeTaken = end - start\n",
    "secs = timeTaken.seconds\n",
    "wordPM = (word_count/secs)\n",
    "print(wordPM)\n"
   ]
  },
  {
   "cell_type": "code",
   "execution_count": null,
   "id": "4c72e612",
   "metadata": {},
   "outputs": [],
   "source": []
  },
  {
   "cell_type": "code",
   "execution_count": null,
   "id": "05bce9ad",
   "metadata": {},
   "outputs": [],
   "source": []
  },
  {
   "cell_type": "code",
   "execution_count": null,
   "id": "8974544f",
   "metadata": {},
   "outputs": [],
   "source": []
  },
  {
   "cell_type": "code",
   "execution_count": null,
   "id": "09124e5e",
   "metadata": {},
   "outputs": [],
   "source": []
  },
  {
   "cell_type": "code",
   "execution_count": null,
   "id": "6b565a5a",
   "metadata": {},
   "outputs": [],
   "source": []
  },
  {
   "cell_type": "code",
   "execution_count": null,
   "id": "50e8a2a6",
   "metadata": {},
   "outputs": [],
   "source": []
  },
  {
   "cell_type": "code",
   "execution_count": null,
   "id": "454288c8",
   "metadata": {},
   "outputs": [],
   "source": []
  },
  {
   "cell_type": "code",
   "execution_count": null,
   "id": "bfc010b3",
   "metadata": {},
   "outputs": [],
   "source": []
  },
  {
   "cell_type": "code",
   "execution_count": null,
   "id": "e5dd64d9",
   "metadata": {},
   "outputs": [],
   "source": []
  },
  {
   "cell_type": "code",
   "execution_count": null,
   "id": "a10ac0d2",
   "metadata": {},
   "outputs": [],
   "source": []
  },
  {
   "cell_type": "code",
   "execution_count": null,
   "id": "8442151f",
   "metadata": {},
   "outputs": [],
   "source": []
  }
 ],
 "metadata": {
  "kernelspec": {
   "display_name": "Python 3",
   "language": "python",
   "name": "python3"
  }
 },
 "nbformat": 4,
 "nbformat_minor": 5
}
